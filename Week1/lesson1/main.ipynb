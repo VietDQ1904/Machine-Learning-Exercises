{
 "cells": [
  {
   "cell_type": "markdown",
   "id": "0e2cc309-7d31-4ba0-8516-8603a35cb1e6",
   "metadata": {},
   "source": [
    "# Thực hành lập trình Python cơ bản"
   ]
  },
  {
   "cell_type": "markdown",
   "id": "82af3789-f287-4b01-b83d-531b81b63ef9",
   "metadata": {},
   "source": [
    "### Bài 1: Tính toán đơn giản"
   ]
  },
  {
   "cell_type": "code",
   "execution_count": 3,
   "id": "ca44637d-7fbd-4da4-999e-06dc3a08dcce",
   "metadata": {},
   "outputs": [
    {
     "name": "stdout",
     "output_type": "stream",
     "text": [
      "Calculator Basic\n"
     ]
    },
    {
     "name": "stdout",
     "output_type": "stream",
     "text": [
      "Moi ban nhap so a:  2\n",
      "Moi ban nhap so b:  3\n"
     ]
    },
    {
     "name": "stdout",
     "output_type": "stream",
     "text": [
      "c = 2 + 3 = 5\n"
     ]
    }
   ],
   "source": [
    "%run ex1_calc.py"
   ]
  },
  {
   "cell_type": "markdown",
   "id": "98ecdc35-35cc-4906-954b-15b646890bc8",
   "metadata": {},
   "source": [
    "### Bài 3: Tính chu vi, diện tích hình tròn"
   ]
  },
  {
   "cell_type": "code",
   "execution_count": 6,
   "id": "ec9599a7-2361-49d2-8605-08c2c9ffd925",
   "metadata": {},
   "outputs": [
    {
     "name": "stdin",
     "output_type": "stream",
     "text": [
      "Nhap ban kinh hinh tron:  10\n"
     ]
    },
    {
     "name": "stdout",
     "output_type": "stream",
     "text": [
      "Chu vi hinh tron la: 62.83185307179586\n",
      "Dien tich hinh tron la: 314.1592653589793\n"
     ]
    }
   ],
   "source": [
    "%run ex3_circle.py"
   ]
  },
  {
   "cell_type": "code",
   "execution_count": null,
   "id": "e96101cc-0c11-48fe-ae94-42db13e6251a",
   "metadata": {},
   "outputs": [],
   "source": []
  }
 ],
 "metadata": {
  "kernelspec": {
   "display_name": "Python 3 (ipykernel)",
   "language": "python",
   "name": "python3"
  },
  "language_info": {
   "codemirror_mode": {
    "name": "ipython",
    "version": 3
   },
   "file_extension": ".py",
   "mimetype": "text/x-python",
   "name": "python",
   "nbconvert_exporter": "python",
   "pygments_lexer": "ipython3",
   "version": "3.13.5"
  }
 },
 "nbformat": 4,
 "nbformat_minor": 5
}
